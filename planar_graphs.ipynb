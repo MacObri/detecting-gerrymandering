{
  "nbformat": 4,
  "nbformat_minor": 0,
  "metadata": {
    "colab": {
      "name": "planar_graphs.ipynb",
      "provenance": [],
      "collapsed_sections": []
    },
    "kernelspec": {
      "name": "python3",
      "display_name": "Python 3"
    },
    "language_info": {
      "name": "python"
    }
  },
  "cells": [
    {
      "cell_type": "code",
      "execution_count": 1,
      "metadata": {
        "id": "XE_HYcw9Keib"
      },
      "outputs": [],
      "source": [
        "#IDEA: from legal network, tweak to make it unfair for one side\n",
        "#start by generating valid set of districts, then glue them together\n",
        "#A map is valid if the graph is a planar graph\n",
        "#https://networkx.org/documentation/stable/reference/algorithms/generated/networkx.algorithms.planarity.check_planarity.html?highlight=check%20planarity#networkx.algorithms.planarity.check_planarity\n",
        "import numpy as np\n",
        "import networkx as nx\n",
        "import random\n",
        "import matplotlib.pyplot as plt\n",
        "NUM_OF_DATA_FIELDS = 6\n",
        "BINARY_FIELDS = []\n",
        "TERNARY_FIELDS = [(1,2),(3,4,5)]"
      ]
    },
    {
      "cell_type": "code",
      "source": [
        "def unit_vector(vector):\n",
        "    \"\"\" Returns the unit vector of the vector.  \"\"\"\n",
        "    return vector / np.linalg.norm(vector)\n",
        "\n",
        "def angle_between(v1, v2):\n",
        "    \"\"\" Returns the angle in radians between vectors 'v1' and 'v2'::\n",
        "\n",
        "            >>> angle_between((1, 0, 0), (0, 1, 0))\n",
        "            1.5707963267948966\n",
        "            >>> angle_between((1, 0, 0), (1, 0, 0))\n",
        "            0.0\n",
        "            >>> angle_between((1, 0, 0), (-1, 0, 0))\n",
        "            3.141592653589793\n",
        "    \"\"\"\n",
        "    v1_u = unit_vector(v1)\n",
        "    v2_u = unit_vector(v2)\n",
        "    return np.arccos(np.clip(np.dot(v1_u, v2_u), -1.0, 1.0))\n",
        "\n",
        "#returns vector between two points\n",
        "def vectorGenorator(p1,p2):\n",
        "    return p2- p1"
      ],
      "metadata": {
        "id": "01_Q27Ohe6Wo"
      },
      "execution_count": 2,
      "outputs": []
    },
    {
      "cell_type": "code",
      "source": [
        "def outsideListGenerator(act_graph):\n",
        "  #some bad cases to deal with \n",
        "    if act_graph.number_of_nodes() == 0:\n",
        "      print(\"0 nodes as input, uh-oh\")\n",
        "      return None\n",
        "    if act_graph.number_of_nodes() == 1:\n",
        "      return [get_random_node(act_graph.nodes())]\n",
        "    elif act_graph.number_of_nodes() == 2:\n",
        "      return [node for node in act_graph.nodes()]\n",
        "    #create the graph\n",
        "    #fig = plt.figure()\n",
        "    #create planar layout\n",
        "    posit = nx.planar_layout(act_graph, center = (1,1))\n",
        "    #sort via x value \n",
        "    sortedDict = {k: v for k, v in sorted(posit.items(), key=lambda item: item[1][0], reverse = True)}\n",
        "     \n",
        "    #create neihbor vectors\n",
        "    neighborVectors = {}\n",
        "    for i in act_graph.nodes:\n",
        "        setList = []\n",
        "        for j in act_graph.neighbors(i):\n",
        "            setList.append(vectorGenorator(posit[i],posit[j]))\n",
        "        neighborVectors.update({i:setList})\n",
        "       \n",
        "    #start on right hand side\n",
        "    start = list(sortedDict)[0]\n",
        "    #print('start = ' + str(posit[start]))\n",
        "    startName = ''\n",
        "    for key, value in posit.items():\n",
        "         if value[0] == posit[start][0] and value[1] == posit[start][1]:\n",
        "            startName = key\n",
        "   # print(startName)\n",
        "    \n",
        "    #get smallest slope vector\n",
        "    startNeigh = act_graph.neighbors(list(sortedDict)[0])\n",
        "    nextONe = [1,0]\n",
        "    for i in neighborVectors[start]:\n",
        "        cur = i.tolist()\n",
        "        if nextONe[1]/nextONe[0] >= cur[1]/cur[0]:\n",
        "            nextONe = cur\n",
        "   \n",
        "    #start the ouside list\n",
        "    outsideList = []\n",
        "    #get first entry \n",
        "    originVect=nextONe\n",
        "    val = np.asarray(nextONe) + np.asarray(posit[start])\n",
        "    for key, value in posit.items():\n",
        "         if value[0] == val.tolist()[0] and value[1] == val.tolist()[1]:\n",
        "            outsideList.append(key)    \n",
        "    #nx.draw(act_graph,posit,  with_labels = True)   \n",
        "    #iterate! \n",
        "    counter = 0\n",
        "    while outsideList[-1] != startName:\n",
        "        counter += 1\n",
        "        if counter == 100:\n",
        "          nx.draw(act_graph)\n",
        "          return\n",
        "        angles = []\n",
        "        vects = []\n",
        "        for i in neighborVectors[outsideList[-1]]:\n",
        "            angles.append(angle_between(originVect, i))\n",
        "            vects.append(i)\n",
        "        #print(angles)\n",
        "        #print(vects)\n",
        "        sortedVects = [x for _, x in sorted(zip(angles, vects), key=lambda tup: tup[0])]\n",
        "        originVect = vects[0]\n",
        "          #print(posit[outsideList[-1]] + sortedVects[0])\n",
        "        for key, value in posit.items():\n",
        "            if value[0] == posit[outsideList[-1]][0] + sortedVects[0][0]:\n",
        "                outsideList.append(key)\n",
        "    #print(outsideList)\n",
        "    if len(outsideList) == 0:\n",
        "      print(\"list of length 0, uh-oh\")\n",
        "      nx.draw(act_graph)\n",
        "    return outsideList"
      ],
      "metadata": {
        "id": "CribBpFRfAU2"
      },
      "execution_count": 3,
      "outputs": []
    },
    {
      "cell_type": "code",
      "source": [
        "#Glue the districts together\n",
        "def glue_graphs2(district_graph_list):\n",
        "  full_graph = nx.Graph()\n",
        "  for district in district_graph_list:\n",
        "    full_graph = nx.disjoint_union(full_graph, district)\n",
        "  subgraphs = get_district_subgraphs(full_graph)\n",
        "  for district in subgraphs:\n",
        "    if not nx.is_connected(district):\n",
        "      print(\"DISCONNECTED GRAPH\")\n",
        "        \n",
        "    for other_district in subgraphs:\n",
        "      if not nx.is_connected(other_district):\n",
        "        print(\"DISCONNECTED GRAPH\")\n",
        "        \n",
        "      if district == other_district:\n",
        "        continue\n",
        "      for i in range(4): #attempt to add 4 edges between each pair of districts\n",
        "        #print(i, \"generator 1\")\n",
        "        nodes1 = outsideListGenerator(district)\n",
        "        #print(i, \"generator 2\")\n",
        "        nodes2 = outsideListGenerator(other_district)\n",
        "        #print(\"done\")\n",
        "\n",
        "        index1 = np.random.randint(low = 0, high = len(nodes1))\n",
        "        index2 = np.random.randint(low = 0, high = len(nodes2))\n",
        "\n",
        "        full_graph.add_edge(nodes1[index1], nodes2[index2])\n",
        "        \n",
        "        edge_addition_attempts = 0\n",
        "        \n",
        "        while not nx.check_planarity(full_graph)[0]: #if graph is not planar\n",
        "          #print(\"while loop 2\")\n",
        "          full_graph.remove_edge(nodes1[index1], nodes2[index2])\n",
        "          #print_if(nx.check_planarity(gr)[0], False, \"edge removed outer...\")\n",
        "                                                             \n",
        "          index1 = np.random.randint(low = 0, high = len(nodes1))\n",
        "          index2 = np.random.randint(low = 0, high = len(nodes2))\n",
        "\n",
        "          full_graph.add_edge(nodes1[index1], nodes2[index2])\n",
        "          edge_addition_attempts += 1\n",
        "                                 \n",
        "          if edge_addition_attempts > 10: #arbitrarily selected limit; we don't want to keep trying to add edges forever\n",
        "            if not nx.check_planarity(gr)[0]:\n",
        "              full_graph.remove_edge(nodes1[index1], nodes2[index2])\n",
        "              break\n",
        "    return full_graph\n",
        "\n"
      ],
      "metadata": {
        "id": "i6oD8aU1fMLT"
      },
      "execution_count": 4,
      "outputs": []
    },
    {
      "cell_type": "markdown",
      "source": [
        "**Requirements for valid cluster distribution**\n",
        "\n",
        "Criteria specified by state law/implemented in the paper:\n",
        "- Contiguity: Subgraphs must all be connected\n",
        "- Population size: deviation max 1% from ideal size (total pop / districts)\n",
        "  - Could be adjusted, use a parameter\n",
        "- Compactness: inconsistent measurements, often uses district perimeter; this is hard, so maybe use node degree within subgraphs - port over edges that can be ported?\n",
        "- Preserve political boundaries: This sounds especially hard so will skip for now\n",
        "- Partisan bias: prevent partisan bias (the margin allowed is unclear; skip for now)\n",
        "- Competitiveness: Dems and Republicans receive approximately equal shares of the combined party's votes; for now, let's just say the difference between proportions is below some threshold\n",
        "\n",
        "Criteria specified by federal law:\n",
        "- Single-member districts - one district per representative (take in a parameter that represents ultimate number of districts)\n",
        "- One person, one vote - keep population disparity at a minimum\n",
        "- No gerrymandering - votes cannot be diluted based on race, color, or language minority status"
      ],
      "metadata": {
        "id": "doh3LmKQRQmP"
      }
    },
    {
      "cell_type": "markdown",
      "source": [
        "**Implementing requirements**\n",
        "- **Contiguity:** solved by constructing a list of districts and then collating them\n",
        "- **Population size:** solved by generating population size of districts and then randomly distributing through districts with max variation of 1% from ideal size\n",
        "- **Compactness:** solved by internally generating a structure that conforms with the required degree\n",
        "- Preserve political boundaries: easy to arbitrarily assign political boundaries within districts, hard to encode in a way that could be kept in the graph; skip for now, could add a cursory check later that rejects invalid graphs\n",
        "- Competitiveness: Colorado-specific requirement; ignore\n",
        "\n",
        "**Steps for generating a valid graph**\n",
        "1. Start with number of districts, number of precincts\n",
        "2. For each district:\n",
        "  a. Assign number of precincts randomly as portion of total\n",
        "  b. Give precinct structure that conforms with edge-node ratio of at least 2:1, while still forming a planar graph\n",
        "  c. Randomly assign characteristics to precincts, all as percentage of total state population: population, randomly generated from a specific ideal value with a bit of variation and then randomly split between precincts; party percentage; race; age; income group; land area as percentage of total state area\n",
        "3. Create edges between precincts that cross district boundaries\n",
        "4. Check planarity and remove any invalid edges\n",
        "\n",
        "**Steps for checking validity**\n",
        "1. Check planarity (must be valid map)\n",
        "2. Check that each district is connected (walk district until all nodes have been visited? or just use networkx method which probably exists)\n",
        "3. Check that each district is compact enough - here, determined by edge-to-node ratio of >= 2:1, ish\n",
        "4. Check that district population < ideal x 1.01 && district population > ideal x 0.99"
      ],
      "metadata": {
        "id": "_c0vnr0FRlrU"
      }
    },
    {
      "cell_type": "markdown",
      "source": [
        "# Code\n"
      ],
      "metadata": {
        "id": "s5Xb1p7fJ8vT"
      }
    },
    {
      "cell_type": "code",
      "source": [
        "#Main method to generate a graph that represents a valid, legal clustering of precincts into districts on a map\n",
        "#param: int n_dist: number of districts\n",
        "#param: int n_prec: number of precincts to be distributed between districts (must be at least n_dist)\n",
        "#returns: nx.Graph: graph of connected precincts, int[]: node labels\n",
        "def generate_valid_graph(n_dist,n_prec):\n",
        "  precinct_numbers = assign_total_between_buckets(n_dist, n_prec)\n",
        "  actual_proportions = generate_sensical_proportions()\n",
        "  all_districts = generate_planar_graphs(precinct_numbers, actual_proportions)\n",
        "  full_graph = glue_graphs_together(all_districts)"
      ],
      "metadata": {
        "id": "6wXEXuuKbtrU"
      },
      "execution_count": 5,
      "outputs": []
    },
    {
      "cell_type": "code",
      "source": [
        "#Method to randomly distribute some number of something between some number of buckets\n",
        "def assign_total_between_buckets(buckets, total):\n",
        "  bucket_totals = []\n",
        "  for i in range(buckets):\n",
        "    if i == buckets - 1:\n",
        "      bucket_totals.append(total)\n",
        "    else:\n",
        "      portion = np.random.randint(1, high = total - (buckets - i - 1)) #choose a random fraction of the starting n_prec without taking too many for the next district\n",
        "      bucket_totals.append(portion)\n",
        "      total -= portion\n",
        "  np.random.shuffle(bucket_totals)\n",
        "  return bucket_totals"
      ],
      "metadata": {
        "id": "Kfvt9n8Ufrfk"
      },
      "execution_count": 6,
      "outputs": []
    },
    {
      "cell_type": "code",
      "source": [
        "#Method to randomly distribute a percentage between some number of buckets (use start = 1 if distributing a whole)\n",
        "#otherwise, start should be between 0 and 1\n",
        "def assign_percent_between_buckets(buckets, start):\n",
        "  bucket_fractions = []\n",
        "  total = start\n",
        "  for i in range(buckets):\n",
        "    if i == buckets - 1:\n",
        "      bucket_fractions.append(total)\n",
        "    else:\n",
        "      portion = random.uniform(0, total) #choose a random fraction of number without taking too much for the next district\n",
        "      bucket_fractions.append(portion)\n",
        "      total -= portion\n",
        "  np.random.shuffle(bucket_fractions)\n",
        "  return bucket_fractions"
      ],
      "metadata": {
        "id": "z0NmaMKrDePy"
      },
      "execution_count": 7,
      "outputs": []
    },
    {
      "cell_type": "code",
      "source": [
        "#Method to randomly distribute a population, in terms of fractions that all sum to 1, more or less evenly (within 1 percentage point of the ideal)\n",
        "#Param: int buckets: number of districts\n",
        "def assign_population_evenly(buckets, total, allowed_variation):\n",
        "  bucket_fractions = []\n",
        "  base_max_pop = (1 + allowed_variation) / buckets\n",
        "  base_min_pop = (1 - allowed_variation) / buckets\n",
        "  max_pop = base_max_pop\n",
        "  min_pop = base_min_pop\n",
        "  avg = (max_pop + min_pop) / 2\n",
        "  total_variation = 0 #this will be negative if the average is tending high and positive if it is tending low\n",
        "  for i in range(buckets):\n",
        "    if i == buckets - 1:\n",
        "      bucket_fractions.append(total)\n",
        "    else:\n",
        "      portion = random.uniform(min_pop, max_pop) #choose a random fraction of 1 without straying out of range\n",
        "      bucket_fractions.append(portion)\n",
        "      total -= portion\n",
        "      total_variation += (portion - avg) #if portion is lower than average, this lowers total variation; otherwise, it raises it\n",
        "      if total_variation > 0: #if we're erring a little too high\n",
        "        min_pop = base_min_pop\n",
        "        max_pop = avg\n",
        "      else: #erring a little too low\n",
        "        min_pop = avg\n",
        "        max_pop = base_max_pop\n",
        "  np.random.shuffle(bucket_fractions)\n",
        "  return bucket_fractions"
      ],
      "metadata": {
        "id": "mF0e3wJTR3zF"
      },
      "execution_count": 8,
      "outputs": []
    },
    {
      "cell_type": "code",
      "source": [
        "#Method to generate a planar graph (one that could be converted to an actual map) containing a specified number of nodes (regions/precincts)\n",
        "def gen_planar_graph(nodes, attributes_to_split):\n",
        "  gr = nx.Graph()\n",
        "  for i in range(nodes):\n",
        "    gr.add_node(i)\n",
        "    if i > 0: #if we have enough nodes to draw edges between\n",
        "      edges = np.random.randint(3,high=5)\n",
        "      for j in range(edges): #this may add redundant edges \n",
        "        other_node = np.random.randint(i)\n",
        "        gr.add_edge(i, other_node) #add edge between current node and a randomly selected node that has already been added\n",
        "        edge_addition_attempts = 0\n",
        "        while not nx.check_planarity(gr)[0]: #if graph is not planar\n",
        "          gr.remove_edge(i, other_node)\n",
        "          #print_if(nx.check_planarity(gr)[0], False, \"edge removed outer...\")\n",
        "          other_node = np.random.randint(i)\n",
        "          gr.add_edge(i, other_node)\n",
        "          edge_addition_attempts += 1\n",
        "          if edge_addition_attempts > 10: #arbitrarily selected limit; we don't want to keep trying to add edges forever\n",
        "            if not nx.check_planarity(gr)[0]:\n",
        "              gr.remove_edge(i, other_node)\n",
        "              #print_if(nx.check_planarity(gr)[0], False, \"edge removed again...\")\n",
        "            #print_if(nx.check_planarity(gr)[0], False, \"breaking...\")\n",
        "            break\n",
        "        #print_if(nx.check_planarity(gr)[0], False, \"outside while loop\")\n",
        "  #print_if(nx.check_planarity(gr)[0], False, \"outside outer loop...\")\n",
        "\n",
        "  #Populate the nodes with data; for simplicity and ease of modification we will use only one field with an array containing all the attributes\n",
        "  #start by creating a data matrix with one row for every node\n",
        "  node_matrix = np.empty((nodes, NUM_OF_DATA_FIELDS))\n",
        "  # for i in range(NUM_OF_DATA_FIELDS): #distribute portions of allotted numbers among the rows\n",
        "  #   node_matrix[:,i] = assign_percent_between_buckets(nodes, attributes_to_split[i])\n",
        "  node_matrix[:,0] = assign_percent_between_buckets(nodes, attributes_to_split[0])\n",
        "  if len(BINARY_FIELDS) > 0: #Binary_fields, for the moment, is completely unused and I see no reason for that to change. So this is just a precaution\n",
        "    print(\"UNIMPLEMENTED SEGMENT OF CODE! PLEASE FIX\")\n",
        "    exit(0)\n",
        "  for list_of_categories in TERNARY_FIELDS:\n",
        "    limits = node_matrix[:,0] #start with the limit being the proportion of the population occupied by the district\n",
        "    totals = attributes_to_split[np.array(list_of_categories)]\n",
        "    mini_matrix = assign_across_categories(totals,limits)\n",
        "    for i in range(len(list_of_categories)):\n",
        "      index = list_of_categories[i]\n",
        "      node_matrix[:,index] = mini_matrix[:,i]\n",
        "  for i in range(nodes):\n",
        "    gr.nodes[i]['features'] = node_matrix[i,:]\n",
        "  return gr\n",
        "\n",
        "def print_if(input, condition, message):\n",
        "  if input == condition:\n",
        "    print(message)"
      ],
      "metadata": {
        "id": "39Fi_ghkkkP8"
      },
      "execution_count": 9,
      "outputs": []
    },
    {
      "cell_type": "code",
      "source": [
        "#Method to generate a bunch of districts, which can later be glued together by glue_graphs_together (brute force and not guaranteed to produce\n",
        "#many connections) or glue_graphs2 (should work more reliably by detecting the outside nodes of the districts, but currently\n",
        "#suffers from a couple of nasty bugs)\n",
        "#Input: assigned numbers of precincts per district, state data\n",
        "#Returns: a list of subgraphs which will need to be glued together to form the state\n",
        "def generate_planar_graphs(precinct_numbers, actual_proportions):\n",
        "  n_dist = len(precinct_numbers)\n",
        "  #Start by creating a data matrix: one row per district, with the total (1) of the state for each attribute split randomly between the districts\n",
        "  data_matrix = np.empty((n_dist, NUM_OF_DATA_FIELDS))\n",
        "  #fill in the population data, which is slightly different because by the rules established above the population proportions need to be fairly similar\n",
        "  data_matrix[:,0] = assign_population_evenly(n_dist, 1, 0.1)\n",
        "  if len(BINARY_FIELDS) > 0: #Binary_fields, for the moment, is completely unused and I see no reason for that to change. So this is just a precaution\n",
        "    print(\"UNIMPLEMENTED SEGMENT OF CODE! PLEASE FIX\")\n",
        "    exit(0)\n",
        "  for list_of_categories in TERNARY_FIELDS:\n",
        "    limits = data_matrix[:,0] #start with the limit being the proportion of the population occupied by the district\n",
        "    totals = actual_proportions[np.array(list_of_categories)]\n",
        "    mini_matrix = assign_across_categories(totals,limits)\n",
        "    for i in range(len(list_of_categories)):\n",
        "      index = list_of_categories[i]\n",
        "      data_matrix[:,index] = mini_matrix[:,i]\n",
        "  print(data_matrix)\n",
        "  district_graphs = []\n",
        "  for i in range(n_dist):\n",
        "    graph = gen_planar_graph(precinct_numbers[i], data_matrix[i,:]) #generate a graph to represent the districts,\n",
        "    # feeding in the number of precincts and the proportions that must be split between the precincts\n",
        "    for node in graph.nodes:\n",
        "      graph.nodes[node]['label'] = i\n",
        "    district_graphs.append(graph)\n",
        "  return district_graphs\n",
        "\n",
        "#this and the function below it are both flawed versions of assign_across_categories, located at the bottom of this code block\n",
        "#assign_across_categories can also be found in the grid graph code\n",
        "def assign_percent_under_limits(buckets, total, limits):\n",
        "  print(total, sum(limits))\n",
        "  start = total\n",
        "  bucket_fractions = np.empty((buckets))\n",
        "  for i in range(buckets):\n",
        "    if i == buckets - 1:\n",
        "      bucket_fractions[i] = total\n",
        "    else:\n",
        "      portion = random.uniform(0, total) #choose a random fraction of number without taking too much for the next district\n",
        "      bucket_fractions[i] = portion\n",
        "      total -= portion\n",
        "  check_if_under = limits - bucket_fractions\n",
        "  check_if_under = check_if_under < 0\n",
        "  while np.any(check_if_under):\n",
        "    bad = 0\n",
        "    for boolean in check_if_under:\n",
        "      if boolean:\n",
        "        bad += 1\n",
        "    print(bad)\n",
        "    #print(np.stack((bucket_fractions,limits)))\n",
        "    # print(check_if_under.index(True))\n",
        "    # total = start\n",
        "    # bucket_fractions = np.empty((buckets))\n",
        "    # for i in range(buckets):\n",
        "    #   if i == buckets - 1:\n",
        "    #     bucket_fractions[i] = total\n",
        "    #   else:\n",
        "    #     portion = random.uniform(0, total) #choose a random fraction of number without taking too much for the next district\n",
        "    #     bucket_fractions[i] = portion\n",
        "    #     total -= portion\n",
        "    for i in range(buckets):\n",
        "      if check_if_under[i]: #if we are over the limit at this index\n",
        "        extra = bucket_fractions[i] - limits[i] #the amount we will be taking off the number here and adding elsewhere\n",
        "        bucket_fractions[i] = limits[i]\n",
        "        #add extra back on somewhere else\n",
        "        j = 0\n",
        "        while extra > 0:\n",
        "          if not check_if_under[j]: #if the number at this index could be higher\n",
        "            new_value = min(bucket_fractions[j] + extra, limits[j]) #figure out how high it could go\n",
        "            extra -= new_value - bucket_fractions[j]\n",
        "            bucket_fractions[j] = new_value #make it higher\n",
        "            j += 1\n",
        "        check_if_under = limits - bucket_fractions\n",
        "        check_if_under = check_if_under < 0\n",
        "    check_if_under = limits - bucket_fractions\n",
        "    check_if_under = check_if_under < 0\n",
        "    \n",
        "  return bucket_fractions\n",
        "\n",
        "#another flawed version of the function just below it\n",
        "def split(max, pp_arr):\n",
        "    print(sum(pp_arr), max)\n",
        "    result = []\n",
        "    length = pp_arr.shape[0]   \n",
        "\n",
        "    for i in range(length):\n",
        "        #want a random number between\n",
        "        temp_max = max*pp_arr[i]\n",
        "        prop = np.random.uniform(0,temp_max)\n",
        "        result.append(prop)\n",
        "\n",
        "    total = (sum(result))\n",
        "    #try the whole, try the half, try the quarter\n",
        "    denominator =1\n",
        "    while(total<(max)):\n",
        "        for j in range(length):\n",
        "                   \n",
        "            if (max - sum(result)) <= (pp_arr[j] -result[j]):\n",
        "                result[j]+= max - sum(result)\n",
        "           \n",
        "            else:\n",
        "                temp_max = max*pp_arr[j]\n",
        "                temp_total = max-sum(result)\n",
        "                prop = np.random.uniform(result[j],temp_max)\n",
        "                result[j] = prop\n",
        "             \n",
        "            total = sum(result)\n",
        "       \n",
        "    return result\n",
        "\n",
        "\"\"\" A function to randomly distribute among a data array a list of attributes, with the sums of the columns and the sums of the rows\n",
        "    adding up to specified numbers.\n",
        "\n",
        "    Parameters\n",
        "    ----------\n",
        "    totals: numpy.ndarray(dtype='float')\n",
        "        The sums for the columns\n",
        "    \n",
        "    limits: numpy.ndarray(dtype='float')\n",
        "        The sums for the rows\n",
        "    \n",
        "    Returns\n",
        "    -------\n",
        "    result: numpy.ndarray(dtype='float)\n",
        "        The distributed values, with size (limits.shape[0], totals.shape[0]).\n",
        "    \n",
        "        \"\"\"\n",
        "def assign_across_categories(totals, limits):\n",
        "  result = np.random.random((limits.shape[0], totals.shape[0]))\n",
        "  # old_result = np.zeros((limits.shape[0], totals.shape[0]))\n",
        "  # while not (result == old_result).all():\n",
        "  #   old_result = result\n",
        "  for i in range(100):\n",
        "    result /= result.sum(0)\n",
        "    result *= totals\n",
        "    result /= result.sum(1).reshape(limits.shape[0],1)\n",
        "    result *= limits.reshape(limits.shape[0],1)\n",
        "  return result"
      ],
      "metadata": {
        "id": "JVpOlJaJB7Ly"
      },
      "execution_count": 10,
      "outputs": []
    },
    {
      "cell_type": "code",
      "source": [
        "#Glue the districts together by sheer brute force\n",
        "def glue_graphs_together(district_graph_list):\n",
        "  full_graph = nx.Graph()\n",
        "  for district in district_graph_list:\n",
        "    full_graph = nx.disjoint_union(full_graph, district)\n",
        "  subgraphs = get_district_subgraphs(full_graph)\n",
        "  for district in subgraphs:\n",
        "    for other_district in subgraphs:\n",
        "      if district == other_district:\n",
        "        continue\n",
        "      for i in range(4): #attempt to add 4 edges between each pair of districts\n",
        "        node1 = get_random_node(district.nodes())\n",
        "        node2 = get_random_node(other_district.nodes())\n",
        "        full_graph.add_edge(node1, node2)\n",
        "        edge_addition_attempts = 0\n",
        "        while not nx.check_planarity(full_graph)[0]: #if graph is not planar\n",
        "          full_graph.remove_edge(node1, node2)\n",
        "          #print_if(nx.check_planarity(gr)[0], False, \"edge removed outer...\")\n",
        "          node1 = get_random_node(district.nodes())\n",
        "          node2 = get_random_node(other_district.nodes())\n",
        "          full_graph.add_edge(node1, node2)\n",
        "          edge_addition_attempts += 1\n",
        "          if edge_addition_attempts > 10000: #arbitrarily selected limit; we don't want to keep trying to add edges forever\n",
        "            if not nx.check_planarity(gr)[0]:\n",
        "              full_graph.remove_edge(node1, node2)\n",
        "    return full_graph\n",
        "\n",
        "#Helper method to get a random node out of a graph, if passed the graph's nodes as an iterator\n",
        "def get_random_node(node_iterator):\n",
        "    node_list = []\n",
        "    for node in node_iterator:\n",
        "        node_list.append(node)\n",
        "    if len(node_list) == 0:\n",
        "        return 0 #if there is nothing in the iterator\n",
        "    target = np.random.randint(0,high=len(node_list))\n",
        "    return node_list[target]"
      ],
      "metadata": {
        "id": "k97AZ5QbB0nQ"
      },
      "execution_count": 40,
      "outputs": []
    },
    {
      "cell_type": "code",
      "source": [
        "#Returns 0 if graph is valid, otherwise number code indicating why graph is invalid\n",
        "def valid_assignments(graph, compactness=1.8, pop_variation=0.01):\n",
        "  if nx.check_planarity(graph)[0]:\n",
        "    districts = get_district_subgraphs(graph)\n",
        "    if districts_connected(districts):\n",
        "      if districts_compact(districts, compactness):\n",
        "        if pop_sizes_equal(districts, pop_variation):\n",
        "          return 0\n",
        "        else: return 1\n",
        "      else: return 2\n",
        "    else: return 3\n",
        "  else: return 4\n",
        "\n",
        "#check if the districts are all connected\n",
        "def districts_connected(subgraphs):\n",
        "  for subgraph in subgraphs:\n",
        "    if not nx.is_connected(subgraph):\n",
        "      return False\n",
        "\n",
        "#check whether the districts are compact enough for our requirements\n",
        "def districts_compact(subgraphs, compactness):\n",
        "  for subgraph in subgraphs:\n",
        "    nodes = subgraph.number_of_nodes()\n",
        "    edges = subgraph.number_of_edges()\n",
        "    ratio = edges / nodes\n",
        "    if ratio < compactness:\n",
        "      return False\n",
        "  return True\n",
        "\n",
        "#check whether the population sizes vary more than the percentage we want them to vary\n",
        "def pop_sizes_equal(subgraphs, pop_variation):\n",
        "  populations = []\n",
        "  for subgraph in subgraphs:\n",
        "    total = 0\n",
        "    for node in subgraph:\n",
        "      total += subgraph[node]['features'][0]\n",
        "    populations.append(total)\n",
        "  avg = sum(populations) / len(populations)\n",
        "  for pop in populations:\n",
        "    if pop > ((1 + pop_variation) * avg) or pop < ((1-pop_variation) * avg):\n",
        "      return False\n",
        "  return True\n",
        "\n",
        "#return a list of subgraphs, split by the labels assigned to the nodes\n",
        "def get_district_subgraphs(graph):\n",
        "  subgraphs = []\n",
        "  subgraph_nodes = {}\n",
        "  #create a dictionary of nodes that belong in the different subgraphs\n",
        "  for node in graph.nodes:\n",
        "    label = graph.nodes[node]['label']\n",
        "    if label in subgraph_nodes:\n",
        "      subgraph_nodes[label].append(node)\n",
        "    else:\n",
        "      subgraph_nodes[label] = [node]\n",
        "  #get a list of subgraphs\n",
        "  for label in subgraph_nodes:\n",
        "    subgraph = graph.subgraph(subgraph_nodes[label]).copy()\n",
        "    subgraphs.append(subgraph)\n",
        "  return subgraphs\n",
        "\n",
        "  ##Unused code that may be useful later\n",
        "  # components = [c for c in nx.connected_components(graph)]\n",
        "  # checked_labels = []\n",
        "  # for c in components:\n",
        "  #   current_label = -1 #flag value\n",
        "  #   for node in c.nodes:\n",
        "  #     if current_label == -1: #if this is the first node in the component\n",
        "  #       current_label = graph.nodes[node]['label']\n",
        "  #       if current_label in checked_labels:\n",
        "  #         return False #we have two unconnected districts with the same label, this is invalid\n",
        "  #       checked_labels.append(current_label)\n",
        "  #     else:\n",
        "  #       if graph.nodes[node]['label'] != current_label:\n",
        "  #         return False #we have two nodes in the same cluster but with \n"
      ],
      "metadata": {
        "id": "w6-z_KhmB8WH"
      },
      "execution_count": 12,
      "outputs": []
    },
    {
      "cell_type": "code",
      "source": [
        "#Calculate an evaluation of how much the state has been gerrymandered per feature in the feature array\n",
        "#The feature array looks like: 0: pop, 1: party 1 (binary), 2: minority (binary), 3: age 1 (trinary), 4: age 2 (trinary), 5: income bracket 1 (binary)\n",
        "#(see \"Notes on node data\" for more notes on the attributes)\n",
        "#Param: nx.Graph graph: the graph of the state, with districts apportioned by the \"label\" attribute\n",
        "#Param: int[] total_proportions: should look like [1, % of state belonging to party 1, % of state in a racial minority, etc.]\n",
        "#these are the \"target values\" that a fair districting plan would try to approximate and that a gerrymander would stray from\n",
        "#Returns: a list of values indicating the \"approximation\" proportions (the ones created by majorities in districts)\n",
        "def majority_outcomes(graph, total_proportions):\n",
        "\n",
        "  districts = get_district_subgraphs(graph)\n",
        "  all_district_proportions = np.empty((len(districts),NUM_OF_DATA_FIELDS)) #one row per district, one column per attribute\n",
        "\n",
        "  #start by calculating the values for the different attributes\n",
        "  for i in range(len(districts)):\n",
        "    all_district_proportions[i,:] = district_proportions(districts[i]) #one row per district\n",
        "  \n",
        "  #evaluate how many districts the binary attributes have a majority in\n",
        "  binary_majority_count = np.zeros(NUM_OF_DATA_FIELDS)\n",
        "  for binary_item in BINARY_FIELDS:\n",
        "    for proportion in all_district_proportions[:, binary_item]:\n",
        "      if proportion > 0.5:\n",
        "        binary_majority_count[binary_item] += 1\n",
        "  \n",
        "  #evaluate ternary attributes\n",
        "  ternary_plurality_count = np.zeros(NUM_OF_DATA_FIELDS)\n",
        "  for ternary_items in TERNARY_FIELDS: #fields are tuples\n",
        "    for i in range(len(districts)):\n",
        "      #make an array to store the proportions in the district\n",
        "      to_compare = np.zeros(len(ternary_items)) #the strange syntax here is so that this can be adapted to other category sizes\n",
        "      #get proportions for different items\n",
        "      for j in range(len(ternary_items)):\n",
        "        to_compare[j] = all_district_proportions[i, ternary_items[j]]\n",
        "      plurality_index = np.argmax(to_compare)\n",
        "      ternary_plurality_count[ternary_items[plurality_index]] += 1\n",
        "  print(all_district_proportions)\n",
        "  total_plurality_count = binary_majority_count + ternary_plurality_count\n",
        "  total_plurality_count /= len(districts) #get proportion of districts in which the category wins\n",
        "  return total_plurality_count #see how well the proportions of wins in the districts approximated the actual proportions!\n",
        "\n",
        "\n",
        "#Param: nx.Graph() district: a subgraph of the state representing a single district\n",
        "#Param: np.array total_proportions: should look like [1, % of state belonging to party 1, % of state in a racial minority, etc.]\n",
        "#Returns: for each attribute stored in the nodes, the total proportion of people in the district belonging to the attribute\n",
        "#(which can be used to determine majority/plurality)\n",
        "def district_proportions(district):\n",
        "  district_proportions = np.zeros(NUM_OF_DATA_FIELDS)\n",
        "  for node in district.nodes:\n",
        "    for i in range(NUM_OF_DATA_FIELDS):\n",
        "      district_proportions[i] += district.nodes[node]['features'][i]\n",
        "  #Now that we have total proportions, we can multiply those with state proportions and population proportions to get an overall proportion\n",
        "  # print(district_proportions)\n",
        "  # result = (1 / district_proportions[0]) * total_proportions\n",
        "  # result = result * district_proportions\n",
        "  return district_proportions\n",
        "\n",
        "  "
      ],
      "metadata": {
        "id": "aMFXhEkEHkhe"
      },
      "execution_count": 13,
      "outputs": []
    },
    {
      "cell_type": "code",
      "source": [
        "\"\"\" A function to generate proportions for state data based on the constants defined at the top of this file.\n",
        "\n",
        "    Returns\n",
        "    -------\n",
        "    result : numpy.ndarray(dtype='float')\n",
        "        The overall state data, generated based on the static constants defined above, where the value at index 0 is always 1\n",
        "        (representing the overall population of the state) and the TERNARY_FIELDS list of tuples represents all the indices\n",
        "        in each category of attributes that the population can be divided into (e.g. party, race, age, income level, etc.)\n",
        "        \n",
        "        NUM_OF_DATA_FIELDS represents the total number of attributes in the array. It is assumed that this is the sum of \n",
        "        the total number of elements in tuples in TERNARY_FIELDS, plus 1 for population, which is always placed at the \n",
        "        start of the array for convenience in later calculations.\n",
        "        \n",
        "        BINARY_FIELDS is currently unused, although much of the code in this file could be tweaked to make it usable;\n",
        "        it represents indices in the array where there would be a category with a single field.\n",
        "        \n",
        "        As of 04/19/2022, TERNARY_FIELDS = [(1,2),(3,4,5)], meaning that the proportions at indices 1 and 2 represent one\n",
        "        category (such as party - for example, index 1 being Democrat and index 2 being Republican -\n",
        "        assuming all people in the state fall into one of the two categories),\n",
        "        and the proportions at indices 3, 4 and 5 represent another (perhaps age or race).\n",
        "    \"\"\"\n",
        "def generate_sensical_proportions():\n",
        "  result = np.random.random(NUM_OF_DATA_FIELDS) #the binary fields can just have random proportions in them\n",
        "  result[0] = 1 #the proportion of people who live in the state to people who live in the state is simply 1\n",
        "  for group_of_categories in TERNARY_FIELDS:\n",
        "    cat_proportions = assign_percent_between_buckets(len(group_of_categories), 1) #distribute the total population between the categories plus an extra\n",
        "    result[np.array(group_of_categories)] = cat_proportions #exclude the last number because it is implied\n",
        "  return result"
      ],
      "metadata": {
        "id": "-QUMnNd2WQV1"
      },
      "execution_count": 14,
      "outputs": []
    },
    {
      "cell_type": "markdown",
      "source": [
        "# Unit Testing"
      ],
      "metadata": {
        "id": "iN-1OxSofiTL"
      }
    },
    {
      "cell_type": "code",
      "source": [
        "assert len(assign_total_between_buckets(1, 10)) == 1\n",
        "assert sum(assign_total_between_buckets(15, 20)) == 20"
      ],
      "metadata": {
        "id": "axnqXMTWfG2p"
      },
      "execution_count": 15,
      "outputs": []
    },
    {
      "cell_type": "code",
      "source": [
        "nx.draw(gen_planar_graph(1, generate_sensical_proportions()))"
      ],
      "metadata": {
        "colab": {
          "base_uri": "https://localhost:8080/",
          "height": 319
        },
        "id": "nLcrBnlvfllX",
        "outputId": "b3636233-ffa4-4d7c-9235-66db59f85dcb"
      },
      "execution_count": 18,
      "outputs": [
        {
          "output_type": "display_data",
          "data": {
            "text/plain": [
              "<Figure size 432x288 with 1 Axes>"
            ],
            "image/png": "[encoded data removed]"
          },
          "metadata": {}
        }
      ]
    },
    {
      "cell_type": "code",
      "source": [
        "nx.draw(gen_planar_graph(3, generate_sensical_proportions()))"
      ],
      "metadata": {
        "colab": {
          "base_uri": "https://localhost:8080/",
          "height": 319
        },
        "id": "ExS5TXOCqb_2",
        "outputId": "93e7c161-1123-4aa8-ea68-519120989deb"
      },
      "execution_count": 19,
      "outputs": [
        {
          "output_type": "display_data",
          "data": {
            "text/plain": [
              "<Figure size 432x288 with 1 Axes>"
            ],
            "image/png": "[encoded data removed]"
          },
          "metadata": {}
        }
      ]
    },
    {
      "cell_type": "code",
      "source": [
        "print(assign_across_categories(np.array([0.75, 0.25]),np.array([0.5,0.3,0.2])))"
      ],
      "metadata": {
        "colab": {
          "base_uri": "https://localhost:8080/"
        },
        "id": "SgGc7HPgbUwu",
        "outputId": "cf774771-95f3-40cc-f8eb-4c74596f3bf3"
      },
      "execution_count": 20,
      "outputs": [
        {
          "output_type": "stream",
          "name": "stdout",
          "text": [
            "[[0.42667215 0.07332785]\n",
            " [0.25323799 0.04676201]\n",
            " [0.07008986 0.12991014]]\n"
          ]
        }
      ]
    },
    {
      "cell_type": "code",
      "source": [
        "gr = generate_planar_graphs(assign_total_between_buckets(3, 200), generate_sensical_proportions())[0]\n",
        "nx.draw(gr,pos=nx.planar_layout(gr))\n",
        "print(gr.number_of_edges(), 2* gr.number_of_nodes())\n",
        "assert gr.number_of_edges() >= 1.8* gr.number_of_nodes() #this is not guaranteed, but as long as it is happening more often than not, some error is tolerable"
      ],
      "metadata": {
        "colab": {
          "base_uri": "https://localhost:8080/",
          "height": 390
        },
        "id": "UIv43HYmqe0J",
        "outputId": "5f08e864-54dd-49ec-bbd2-6e4bbfdbe7dd"
      },
      "execution_count": 21,
      "outputs": [
        {
          "output_type": "stream",
          "name": "stdout",
          "text": [
            "[[0.32475865 0.32006395 0.0046947  0.22430615 0.08199981 0.01845268]\n",
            " [0.3534225  0.35045398 0.00296853 0.12632784 0.20461918 0.02247548]\n",
            " [0.32181885 0.28506267 0.03675618 0.07279677 0.19745119 0.0515709 ]]\n",
            "76 62\n"
          ]
        },
        {
          "output_type": "display_data",
          "data": {
            "text/plain": [
              "<Figure size 432x288 with 1 Axes>"
            ],
            "image/png": "[encoded data removed]"
          },
          "metadata": {}
        }
      ]
    },
    {
      "cell_type": "code",
      "source": [
        "assert len(assign_percent_between_buckets(10, 1)) == 10\n",
        "assert sum(assign_percent_between_buckets(20, 1)) == 1 #this might not always work due to floating-point arithmetic; try again if it fails"
      ],
      "metadata": {
        "id": "1l1Jglk1qrRh"
      },
      "execution_count": 22,
      "outputs": []
    },
    {
      "cell_type": "code",
      "source": [
        "print(assign_percent_between_buckets(10, 1))"
      ],
      "metadata": {
        "colab": {
          "base_uri": "https://localhost:8080/"
        },
        "id": "cZww0fKfFnH3",
        "outputId": "790bfca4-864b-443a-874e-ebc889c4c2d5"
      },
      "execution_count": 23,
      "outputs": [
        {
          "output_type": "stream",
          "name": "stdout",
          "text": [
            "[0.8701327573751941, 1.6490286884328908e-05, 0.008276234548433079, 0.0014337599410949768, 3.138322733856935e-06, 0.006749704786683583, 0.0007377879330354536, 0.11224060433012743, 4.939440213408799e-05, 0.0003601280736790679]\n"
          ]
        }
      ]
    },
    {
      "cell_type": "code",
      "source": [
        "pop_assignment = sum(assign_population_evenly(10, 1, 0.1))\n",
        "print(pop_assignment)\n",
        "assert pop_assignment == 1 #again, might go wrong due to floating point; just try again"
      ],
      "metadata": {
        "id": "5nfw4a45FqpZ",
        "colab": {
          "base_uri": "https://localhost:8080/"
        },
        "outputId": "4fb5df39-a5de-423e-9897-824811b8893a"
      },
      "execution_count": 24,
      "outputs": [
        {
          "output_type": "stream",
          "name": "stdout",
          "text": [
            "1.0\n"
          ]
        }
      ]
    },
    {
      "cell_type": "code",
      "source": [
        "props = generate_sensical_proportions()\n",
        "print(district_proportions(generate_planar_graphs(assign_total_between_buckets(3, 200), props)[0]), props)"
      ],
      "metadata": {
        "colab": {
          "base_uri": "https://localhost:8080/"
        },
        "id": "H6mJJbCcc6m_",
        "outputId": "f1a3f157-0156-470d-8626-fa50998e943d"
      },
      "execution_count": 30,
      "outputs": [
        {
          "output_type": "stream",
          "name": "stdout",
          "text": [
            "[[0.30687536 0.05822627 0.24864909 0.08405484 0.14521822 0.0776023 ]\n",
            " [0.35387987 0.0528919  0.30098797 0.14655084 0.11504804 0.09228099]\n",
            " [0.33924476 0.01659512 0.32264964 0.17961168 0.10497508 0.05465801]]\n",
            "[0.30687536 0.05822627 0.24864909 0.08405484 0.14521822 0.0776023 ] [1.         0.1277133  0.8722867  0.41021737 0.36524134 0.2245413 ]\n"
          ]
        }
      ]
    },
    {
      "cell_type": "code",
      "source": [
        "print(generate_sensical_proportions())\n",
        "prop = generate_sensical_proportions()\n",
        "assert prop[0] == 1 #the population; this proportion should always be 1\n",
        "for bin in BINARY_FIELDS:\n",
        "  assert prop[bin] > 0 and prop[bin] < 1 #these proportions can be anything as long as they are valid proportions\n",
        "for group in TERNARY_FIELDS:\n",
        "  assert sum(prop[np.array(group)]) == 1 #these proportions can be anything but must sum together in a sensical way"
      ],
      "metadata": {
        "colab": {
          "base_uri": "https://localhost:8080/"
        },
        "id": "HRyCOpg5Zi7w",
        "outputId": "661150bb-81ef-440b-ce5a-91ca5a261e6c"
      },
      "execution_count": 31,
      "outputs": [
        {
          "output_type": "stream",
          "name": "stdout",
          "text": [
            "[1.         0.03144898 0.96855102 0.04284333 0.05555997 0.9015967 ]\n"
          ]
        }
      ]
    },
    {
      "cell_type": "code",
      "source": [
        "precinct_numbers = assign_total_between_buckets(20,300)"
      ],
      "metadata": {
        "id": "B3Zug6_1Lg8D"
      },
      "execution_count": 32,
      "outputs": []
    },
    {
      "cell_type": "code",
      "source": [
        "all_districts = generate_planar_graphs(precinct_numbers, generate_sensical_proportions())"
      ],
      "metadata": {
        "id": "AfbGF1pqMHdY",
        "colab": {
          "base_uri": "https://localhost:8080/"
        },
        "outputId": "6017654d-ecd3-4fde-de79-fb80b3f36b27"
      },
      "execution_count": 33,
      "outputs": [
        {
          "output_type": "stream",
          "name": "stdout",
          "text": [
            "[[0.04561226 0.01065216 0.0349601  0.00656195 0.00944257 0.02960774]\n",
            " [0.04986637 0.02631162 0.02355475 0.01055242 0.0305705  0.00874346]\n",
            " [0.04950058 0.04081831 0.00868228 0.00615756 0.02245306 0.02088996]\n",
            " [0.04967373 0.040782   0.00889172 0.00159745 0.00111842 0.04695785]\n",
            " [0.04962614 0.02973324 0.01989289 0.00157699 0.00093072 0.04711842]\n",
            " [0.0470476  0.0272733  0.01977431 0.00607081 0.03204991 0.00892687]\n",
            " [0.04899754 0.00258688 0.04641066 0.00332067 0.00065497 0.0450219 ]\n",
            " [0.05217744 0.02838107 0.02379637 0.00068935 0.00655828 0.04492981]\n",
            " [0.05242068 0.01008941 0.04233127 0.00419237 0.00573002 0.0424983 ]\n",
            " [0.04959322 0.03880306 0.01079016 0.00588908 0.01711098 0.02659316]\n",
            " [0.05396189 0.0343229  0.01963899 0.00344992 0.02240712 0.02810485]\n",
            " [0.05443817 0.03804987 0.0163883  0.00121364 0.00941655 0.04380798]\n",
            " [0.05110238 0.05068457 0.00041781 0.00128239 0.02145518 0.02836481]\n",
            " [0.04702652 0.02626506 0.02076146 0.00253066 0.03098383 0.01351203]\n",
            " [0.05091434 0.00732183 0.04359252 0.00087977 0.01313772 0.03689686]\n",
            " [0.04945408 0.02576816 0.02368592 0.00226317 0.00351329 0.04367762]\n",
            " [0.0503997  0.04552235 0.00487735 0.00286507 0.01774501 0.02978963]\n",
            " [0.04996547 0.04125542 0.00871006 0.00160295 0.0056618  0.04270073]\n",
            " [0.04824053 0.01798921 0.03025132 0.00697401 0.00844609 0.03282042]\n",
            " [0.04998136 0.02729519 0.02268617 0.00350869 0.03149551 0.01497717]]\n"
          ]
        }
      ]
    },
    {
      "cell_type": "code",
      "source": [
        "full_graph = glue_graphs2(all_districts) #there are lots of problems with this method, it will not work"
      ],
      "metadata": {
        "id": "dg1xpl11MJUx",
        "colab": {
          "base_uri": "https://localhost:8080/",
          "height": 595
        },
        "outputId": "33abff63-1e66-4f99-f95f-84ca2a974b30"
      },
      "execution_count": 36,
      "outputs": [
        {
          "output_type": "error",
          "ename": "TypeError",
          "evalue": "ignored",
          "traceback": [
            "\u001b[0;31m---------------------------------------------------------------------------\u001b[0m",
            "\u001b[0;31mTypeError\u001b[0m                                 Traceback (most recent call last)",
            "\u001b[0;32m<ipython-input-36-b265037cf566>\u001b[0m in \u001b[0;36m<module>\u001b[0;34m()\u001b[0m\n\u001b[0;32m----> 1\u001b[0;31m \u001b[0mfull_graph\u001b[0m \u001b[0;34m=\u001b[0m \u001b[0mglue_graphs2\u001b[0m\u001b[0;34m(\u001b[0m\u001b[0mall_districts\u001b[0m\u001b[0;34m)\u001b[0m \u001b[0;31m#there are lots of problems with this method, it will not work\u001b[0m\u001b[0;34m\u001b[0m\u001b[0;34m\u001b[0m\u001b[0m\n\u001b[0m",
            "\u001b[0;32m<ipython-input-4-d70346a0fdf0>\u001b[0m in \u001b[0;36mglue_graphs2\u001b[0;34m(district_graph_list)\u001b[0m\n\u001b[1;32m     23\u001b[0m \u001b[0;34m\u001b[0m\u001b[0m\n\u001b[1;32m     24\u001b[0m         \u001b[0mindex1\u001b[0m \u001b[0;34m=\u001b[0m \u001b[0mnp\u001b[0m\u001b[0;34m.\u001b[0m\u001b[0mrandom\u001b[0m\u001b[0;34m.\u001b[0m\u001b[0mrandint\u001b[0m\u001b[0;34m(\u001b[0m\u001b[0mlow\u001b[0m \u001b[0;34m=\u001b[0m \u001b[0;36m0\u001b[0m\u001b[0;34m,\u001b[0m \u001b[0mhigh\u001b[0m \u001b[0;34m=\u001b[0m \u001b[0mlen\u001b[0m\u001b[0;34m(\u001b[0m\u001b[0mnodes1\u001b[0m\u001b[0;34m)\u001b[0m\u001b[0;34m)\u001b[0m\u001b[0;34m\u001b[0m\u001b[0;34m\u001b[0m\u001b[0m\n\u001b[0;32m---> 25\u001b[0;31m         \u001b[0mindex2\u001b[0m \u001b[0;34m=\u001b[0m \u001b[0mnp\u001b[0m\u001b[0;34m.\u001b[0m\u001b[0mrandom\u001b[0m\u001b[0;34m.\u001b[0m\u001b[0mrandint\u001b[0m\u001b[0;34m(\u001b[0m\u001b[0mlow\u001b[0m \u001b[0;34m=\u001b[0m \u001b[0;36m0\u001b[0m\u001b[0;34m,\u001b[0m \u001b[0mhigh\u001b[0m \u001b[0;34m=\u001b[0m \u001b[0mlen\u001b[0m\u001b[0;34m(\u001b[0m\u001b[0mnodes2\u001b[0m\u001b[0;34m)\u001b[0m\u001b[0;34m)\u001b[0m\u001b[0;34m\u001b[0m\u001b[0;34m\u001b[0m\u001b[0m\n\u001b[0m\u001b[1;32m     26\u001b[0m \u001b[0;34m\u001b[0m\u001b[0m\n\u001b[1;32m     27\u001b[0m         \u001b[0mfull_graph\u001b[0m\u001b[0;34m.\u001b[0m\u001b[0madd_edge\u001b[0m\u001b[0;34m(\u001b[0m\u001b[0mnodes1\u001b[0m\u001b[0;34m[\u001b[0m\u001b[0mindex1\u001b[0m\u001b[0;34m]\u001b[0m\u001b[0;34m,\u001b[0m \u001b[0mnodes2\u001b[0m\u001b[0;34m[\u001b[0m\u001b[0mindex2\u001b[0m\u001b[0;34m]\u001b[0m\u001b[0;34m)\u001b[0m\u001b[0;34m\u001b[0m\u001b[0;34m\u001b[0m\u001b[0m\n",
            "\u001b[0;31mTypeError\u001b[0m: object of type 'NoneType' has no len()"
          ]
        },
        {
          "output_type": "display_data",
          "data": {
            "text/plain": [
              "<Figure size 432x288 with 1 Axes>"
            ],
            "image/png": "[encoded data removed]"
          },
          "metadata": {}
        }
      ]
    },
    {
      "cell_type": "code",
      "source": [
        "import matplotlib.pyplot as plt\n",
        "full_graph = glue_graphs_together(all_districts)\n",
        "districts = [full_graph.nodes[node]['label'] for node in full_graph.nodes()]\n",
        "color_map = [plt.cm.tab20(i) for i in districts]\n",
        "nx.draw_planar(full_graph, node_color=color_map)"
      ],
      "metadata": {
        "id": "zHsUVhV9PZ5E",
        "colab": {
          "base_uri": "https://localhost:8080/",
          "height": 319
        },
        "outputId": "87779064-52b6-4552-bc19-a48aacd73894"
      },
      "execution_count": 41,
      "outputs": [
        {
          "output_type": "display_data",
          "data": {
            "text/plain": [
              "<Figure size 432x288 with 1 Axes>"
            ],
            "image/png": "[encoded data removed]"
          },
          "metadata": {}
        }
      ]
    },
    {
      "cell_type": "code",
      "source": [
        "props = generate_sensical_proportions()\n",
        "print(props)\n",
        "np.set_printoptions(suppress=True)\n",
        "print(majority_outcomes(full_graph, props))"
      ],
      "metadata": {
        "colab": {
          "base_uri": "https://localhost:8080/"
        },
        "id": "rXZk55hkVRiG",
        "outputId": "8e1084db-1f10-4b1d-c9a1-91d09e2f3f6c"
      },
      "execution_count": 42,
      "outputs": [
        {
          "output_type": "stream",
          "name": "stdout",
          "text": [
            "[1.         0.10281609 0.89718391 0.06484018 0.41095525 0.52420457]\n",
            "[[0.04561226 0.01065216 0.0349601  0.00656195 0.00944257 0.02960774]\n",
            " [0.04986637 0.02631162 0.02355475 0.01055242 0.0305705  0.00874346]\n",
            " [0.04950058 0.04081831 0.00868228 0.00615756 0.02245306 0.02088996]\n",
            " [0.04967373 0.040782   0.00889172 0.00159745 0.00111842 0.04695785]\n",
            " [0.04962614 0.02973324 0.01989289 0.00157699 0.00093072 0.04711842]\n",
            " [0.0470476  0.0272733  0.01977431 0.00607081 0.03204991 0.00892687]\n",
            " [0.04899754 0.00258688 0.04641066 0.00332067 0.00065497 0.0450219 ]\n",
            " [0.05217744 0.02838107 0.02379637 0.00068935 0.00655828 0.04492981]\n",
            " [0.05242068 0.01008941 0.04233127 0.00419237 0.00573002 0.0424983 ]\n",
            " [0.04959322 0.03880306 0.01079016 0.00588908 0.01711098 0.02659316]\n",
            " [0.05396189 0.0343229  0.01963899 0.00344992 0.02240712 0.02810485]\n",
            " [0.05443817 0.03804987 0.0163883  0.00121364 0.00941655 0.04380798]\n",
            " [0.05110238 0.05068457 0.00041781 0.00128239 0.02145518 0.02836481]\n",
            " [0.04702652 0.02626506 0.02076146 0.00253066 0.03098383 0.01351203]\n",
            " [0.05091434 0.00732183 0.04359252 0.00087977 0.01313772 0.03689686]\n",
            " [0.04945408 0.02576816 0.02368592 0.00226317 0.00351329 0.04367762]\n",
            " [0.0503997  0.04552235 0.00487735 0.00286507 0.01774501 0.02978963]\n",
            " [0.04996547 0.04125542 0.00871006 0.00160295 0.0056618  0.04270073]\n",
            " [0.04824053 0.01798921 0.03025132 0.00697401 0.00844609 0.03282042]\n",
            " [0.04998136 0.02729519 0.02268617 0.00350869 0.03149551 0.01497717]]\n",
            "[0.   0.75 0.25 0.   0.25 0.75]\n"
          ]
        }
      ]
    },
    {
      "cell_type": "markdown",
      "source": [
        "# Notes on node data"
      ],
      "metadata": {
        "id": "PfrfJACXIOZo"
      }
    },
    {
      "cell_type": "markdown",
      "source": [
        "ALL FIELDS ARE A PERCENTAGE OF STATE TOTAL\n",
        "- 0: population (the most important and most used field)\n",
        "- 1: party 1 (assume binary - all of population that is not in party 1 will be in party 2)\n",
        "- 2: party 2\n",
        "- 3: race 1\n",
        "- 4: race 2\n",
        "- 5: race 3"
      ],
      "metadata": {
        "id": "uvn5zZPFIjVs"
      }
    },
    {
      "cell_type": "code",
      "source": [
        ""
      ],
      "metadata": {
        "id": "VvqRY-27J6zp"
      },
      "execution_count": null,
      "outputs": []
    },
    {
      "cell_type": "code",
      "source": [
        ""
      ],
      "metadata": {
        "id": "MaQ8FiZfOkDX"
      },
      "execution_count": null,
      "outputs": []
    }
  ]
}